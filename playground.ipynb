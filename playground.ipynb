{
 "cells": [
  {
   "cell_type": "code",
   "execution_count": null,
   "metadata": {},
   "outputs": [],
   "source": [
    "import statsmodels.api as sm\n",
    "\n",
    "temp = read_data('data-split/eeg1_expertA_0.pkl')\n",
    "channels = list(temp.columns)\n",
    "channels.remove('ECG EKG')\n",
    "\n",
    "for chan in channels:\n",
    "    Resp_cols = [col for col in df if (col.endswith(chan) and col.startswith((\"D3\", \"D4\")))]\n",
    "    df['const'] = 1\n",
    "\n",
    "    X = df[Resp_cols]\n",
    "    y = df['Seizure']\n",
    "\n",
    "    results = sm.Logit(y, X).fit()\n",
    "    #print(results.summary())\n",
    "    tol = 1/2\n",
    "    print(chan, np.sum((results.predict(X).values >= tol) == y) / len(y) )\n",
    "    print()"
   ]
  }
 ],
 "metadata": {
  "kernelspec": {
   "display_name": "Python 3",
   "language": "python",
   "name": "python3"
  },
  "language_info": {
   "codemirror_mode": {
    "name": "ipython",
    "version": 3
   },
   "file_extension": ".py",
   "mimetype": "text/x-python",
   "name": "python",
   "nbconvert_exporter": "python",
   "pygments_lexer": "ipython3",
   "version": "3.7.4"
  }
 },
 "nbformat": 4,
 "nbformat_minor": 4
}
