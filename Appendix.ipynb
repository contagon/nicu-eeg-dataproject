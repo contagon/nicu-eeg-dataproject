{
 "cells": [
  {
   "cell_type": "code",
   "execution_count": 1,
   "metadata": {},
   "outputs": [],
   "source": [
    "import pandas as pd\n",
    "import numpy as np\n",
    "from matplotlib import pyplot as plt\n",
    "import mne                               #package to handle EEG data files\n",
    "import os, seaborn, re\n",
    "from scipy import io                     #for loading matlab file\n",
    "from scipy import fftpack                #for Fourier Transform Analysis\n",
    "from sklearn import datasets, linear_model, model_selection\n",
    "\n",
    "\n",
    "plt.style.use(\"seaborn\")\n",
    "plt.rcParams[\"figure.dpi\"] = 300\n",
    "\n",
    "fs = 256                                 #sample size"
   ]
  },
  {
   "cell_type": "markdown",
   "metadata": {},
   "source": [
    "# Appendix\n",
    "\n",
    "Here we include all functions that are used throughout the data project.\n",
    "\n",
    "First is a simple function to read data that we've saved."
   ]
  },
  {
   "cell_type": "code",
   "execution_count": 3,
   "metadata": {},
   "outputs": [],
   "source": [
    "def read_data(filename):\n",
    "    \"\"\"Read data that we've saved using pandas\n",
    "    Args:\n",
    "        filename (str): Location of stored file\n",
    "        \n",
    "    Returns:\n",
    "        df (pd.DataFrame): file that was stored at that location\"\"\"\n",
    "    return pd.read_pickle(filename)"
   ]
  },
  {
   "cell_type": "markdown",
   "metadata": {},
   "source": [
    "Also a function to plot the EEG recording signals. It's robust enough to hand it an entire DataFrame, and also handles FFT and Wavelet DataFrames."
   ]
  },
  {
   "cell_type": "code",
   "execution_count": 5,
   "metadata": {},
   "outputs": [],
   "source": [
    "def plot_signal(data, channels=None, slices=None):\n",
    "    \"\"\"Plots EEG Signals\n",
    "    Args:\n",
    "        data (DataFrame):             DataFrame full of signals to be plotted. Index must be x-axis\n",
    "        channels (List, None):        If list, plots exclusively those channels from DataFrame. \n",
    "                                      If None, plots all relevant channels.\n",
    "        slices (None, Tuple, Float):  If None, plots entire signal\n",
    "                                      If Tuple, plots from (lower, upper) in seconds\n",
    "                                      If Float, finds random slice of that length in seconds\n",
    "        \n",
    "    Returns:\n",
    "        None\"\"\"\n",
    "    \n",
    "    \n",
    "    #read in data if it's a string\n",
    "    if isinstance(data, str):\n",
    "        data = read_data(data)\n",
    "        \n",
    "    #get all channels needed\n",
    "    if channels == None:\n",
    "        channels = sorted(list(data.columns))\n",
    "        remove = [\"ECG EKG\", \"expertA\", \"expertB\", \"expertC\"]\n",
    "        for i in remove:\n",
    "            if i in channels:\n",
    "                channels.remove(i)\n",
    "        \n",
    "    #get indices of data\n",
    "    if slices == None:\n",
    "        low = 0\n",
    "        up = len(data.index)\n",
    "    elif slices is tuple or slices is list:\n",
    "        low = slices[0]*fs\n",
    "        up = slices[1]*fs\n",
    "    else:\n",
    "        length = fs*slices\n",
    "        low = np.random.randint(slices, len(data.index)-slices)\n",
    "        up = low + length\n",
    "        \n",
    "    #plot them\n",
    "    n = int(np.ceil( len(channels) / 2))\n",
    "    fig, ax = plt.subplots(n, 2, sharex=True, sharey=True, gridspec_kw={'hspace': 0.2, 'wspace': 0.01})\n",
    "    ax = ax.reshape(-1)\n",
    "    fig.set_size_inches(20, 2*n, forward=True)\n",
    "    for i, chan in enumerate(channels):\n",
    "        ax[i].plot(data.index[low:up], data[chan].iloc[low:up])  \n",
    "        ax[i].set_title(chan)\n",
    "    # Set common labels\n",
    "    fig.text(0.5, 0.01*n, 'Time (sec)', ha='center', va='center')\n",
    "    fig.text(0.08, 0.5, r'$\\mu$V', ha='center', va='center', rotation='vertical')"
   ]
  },
  {
   "cell_type": "code",
   "execution_count": null,
   "metadata": {},
   "outputs": [],
   "source": []
  }
 ],
 "metadata": {
  "kernelspec": {
   "display_name": "Python 3",
   "language": "python",
   "name": "python3"
  },
  "language_info": {
   "codemirror_mode": {
    "name": "ipython",
    "version": 3
   },
   "file_extension": ".py",
   "mimetype": "text/x-python",
   "name": "python",
   "nbconvert_exporter": "python",
   "pygments_lexer": "ipython3",
   "version": "3.7.4"
  }
 },
 "nbformat": 4,
 "nbformat_minor": 4
}
